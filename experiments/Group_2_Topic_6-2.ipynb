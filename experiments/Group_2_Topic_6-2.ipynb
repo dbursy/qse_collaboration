{
 "cells": [
  {
   "cell_type": "code",
   "execution_count": 1,
   "id": "9284280b-2ca1-4417-a7ae-59c8064191ac",
   "metadata": {},
   "outputs": [
    {
     "name": "stdout",
     "output_type": "stream",
     "text": [
      "Requirement already satisfied: geopandas in c:\\users\\marlo\\anaconda3\\lib\\site-packages (1.0.1)\n",
      "Requirement already satisfied: shapely in c:\\users\\marlo\\anaconda3\\lib\\site-packages (2.0.5)\n",
      "Requirement already satisfied: numpy>=1.22 in c:\\users\\marlo\\anaconda3\\lib\\site-packages (from geopandas) (1.26.4)\n",
      "Requirement already satisfied: pyogrio>=0.7.2 in c:\\users\\marlo\\anaconda3\\lib\\site-packages (from geopandas) (0.10.0)\n",
      "Requirement already satisfied: packaging in c:\\users\\marlo\\anaconda3\\lib\\site-packages (from geopandas) (24.1)\n",
      "Requirement already satisfied: pandas>=1.4.0 in c:\\users\\marlo\\anaconda3\\lib\\site-packages (from geopandas) (2.2.2)\n",
      "Requirement already satisfied: pyproj>=3.3.0 in c:\\users\\marlo\\anaconda3\\lib\\site-packages (from geopandas) (3.6.1)\n",
      "Requirement already satisfied: python-dateutil>=2.8.2 in c:\\users\\marlo\\anaconda3\\lib\\site-packages (from pandas>=1.4.0->geopandas) (2.9.0.post0)\n",
      "Requirement already satisfied: pytz>=2020.1 in c:\\users\\marlo\\anaconda3\\lib\\site-packages (from pandas>=1.4.0->geopandas) (2024.1)\n",
      "Requirement already satisfied: tzdata>=2022.7 in c:\\users\\marlo\\anaconda3\\lib\\site-packages (from pandas>=1.4.0->geopandas) (2023.3)\n",
      "Requirement already satisfied: certifi in c:\\users\\marlo\\anaconda3\\lib\\site-packages (from pyogrio>=0.7.2->geopandas) (2025.4.26)\n",
      "Requirement already satisfied: six>=1.5 in c:\\users\\marlo\\anaconda3\\lib\\site-packages (from python-dateutil>=2.8.2->pandas>=1.4.0->geopandas) (1.16.0)\n",
      "Note: you may need to restart the kernel to use updated packages.\n"
     ]
    }
   ],
   "source": [
    "pip install geopandas shapely"
   ]
  },
  {
   "cell_type": "code",
   "execution_count": 19,
   "id": "1558d7f9-26b5-4380-816f-5997361cf371",
   "metadata": {},
   "outputs": [],
   "source": [
    "import geopandas as gpd\n",
    "\n",
    "# Load shapefile\n",
    "gdf = gpd.read_file(\"C:\\\\Users\\\\marlo\\\\Documents\\\\PhDEQUALFIN\\\\1_Semester\\\\Quantitative Spatial Economics\\\\Tutorat\\\\Tut 6\\\\Berlin4matlab-ETRS.shp\")\n",
    "\n",
    "# Compute centroids\n",
    "gdf[\"centroid\"] = gdf.geometry.centroid\n",
    "\n",
    "# Extract coordinates (optional, as separate columns)\n",
    "gdf[\"centroid_x\"] = gdf.centroid.x\n",
    "gdf[\"centroid_y\"] = gdf.centroid.y\n",
    "\n",
    "# Drop the 'centroid' geometry column (not needed for shapefile)\n",
    "gdf = gdf.drop(columns=[\"centroid\"])\n",
    "\n",
    "# Save as new shapefile\n",
    "gdf.to_file(\"berlin_blocks_with_centroids.shp\")\n",
    "\n",
    "# Or save centroid coordinates as CSV\n",
    "gdf[[\"centroid_x\", \"centroid_y\"]].to_csv(\"berlin_block_centroids.csv\", index=False)"
   ]
  }
 ],
 "metadata": {
  "kernelspec": {
   "display_name": "Python [conda env:base] *",
   "language": "python",
   "name": "conda-base-py"
  },
  "language_info": {
   "codemirror_mode": {
    "name": "ipython",
    "version": 3
   },
   "file_extension": ".py",
   "mimetype": "text/x-python",
   "name": "python",
   "nbconvert_exporter": "python",
   "pygments_lexer": "ipython3",
   "version": "3.12.7"
  }
 },
 "nbformat": 4,
 "nbformat_minor": 5
}
